{
 "nbformat": 4,
 "nbformat_minor": 0,
 "metadata": {
  "colab": {
   "provenance": []
  },
  "kernelspec": {
   "name": "ml",
   "language": "python",
   "display_name": "ml"
  },
  "language_info": {
   "name": "python"
  }
 },
 "cells": [
  {
   "cell_type": "markdown",
   "source": [
    "Assignment Question:\n",
    "\n",
    "Some ML algorithms\n",
    "\n",
    "KNN\n",
    "\n",
    "SVM\n",
    "\n",
    "Decision Trees\n",
    "\n",
    "Random forest\n",
    "\n",
    "Research the algorithms above and write a brief review of each.\n",
    "Implement any of them or other algorithms that you may like as an end-to-end project. That means you should present a project that involves data cleaning, EDA, data preprocessing, Model building, and model evaluation. Remember to use proper documentation (most of the exercises you submitted last week were not properly documented).\n",
    "This is a group project, please spend Monday and Tuesday working on this project. Let me know if you have any challenges.\n",
    "PS: I suggest you check out sample projects on Kaggle."
   ],
   "metadata": {
    "id": "gONz8BCY1ZEP"
   }
  },
  {
   "cell_type": "markdown",
   "source": [
    "**SOLUTIONS**"
   ],
   "metadata": {
    "id": "48rnCouM7TV3"
   }
  },
  {
   "cell_type": "markdown",
   "source": [
    " * K-Nearest Neighbours is a simple yet powerful machine learning algorithm used for classification and regression tasks. It predicts the label or value of a new data point based on the majority class or average value of its k nearest neighbors in the feature space. The choice of k is crucial, impacting model performance, with smaller values risking overfitting and larger ones leading to underfitting. Despite its simplicity and effectiveness, KNN's computational cost grows with dataset size, and its performance relies on distance metric choice and data distribution.\n",
    "\n",
    "\n",
    "   \n",
    " * Support Vector Machine Support is a machine learning method for classification and regression tasks. It finds the best line or boundary to separate different classes of data while maximizing the space between the data points and this line. It can handle both linear and nonlinear relationships and works well with small to medium-sized datasets. However, it can be computationally intensive and requires careful selection of parameters for optimal performance.\n",
    "\n",
    " * Decision Tree is a machine learning model that makes predictions by dividing the data into branches based on features, forming a hierarchical structure. It's straightforward and interpretable, suitable for classification and regression tasks. However, it may overfit and require tuning to improve generalization.\n",
    "\n",
    " * Random Forest is a machine learning approach that harnesses the collective wisdom of multiple decision trees. Instead of relying on a single decision tree, it builds a \"forest\" of trees, each trained on a random subset of the data and a random subset of features. This randomness introduces diversity among the trees, which helps to reduce overfitting and improve generalization. When making predictions, the Random Forest combines the outputs of all the trees, typically through a voting mechanism for classification tasks or averaging for regression tasks. This ensemble approach often results in more accurate and robust predictions compared to individual trees. Random Forest is widely used across various domains due to its versatility, scalability, and ability to handle complex datasets with high-dimensional features. Additionally, it provides insights into feature importance, making it valuable for feature selection and understanding the underlying patterns in the data.\n",
    "\n",
    "\n"
   ],
   "metadata": {
    "id": "TNVdoq8j2G5s"
   }
  },
  {
   "cell_type": "code",
   "execution_count": 2,
   "metadata": {
    "id": "Cuiwfs_H1XRg",
    "ExecuteTime": {
     "end_time": "2024-04-02T09:06:14.294774Z",
     "start_time": "2024-04-02T09:06:13.753580Z"
    }
   },
   "outputs": [
    {
     "ename": "ModuleNotFoundError",
     "evalue": "No module named 'sklearn.model_selection'",
     "output_type": "error",
     "traceback": [
      "\u001B[1;31m---------------------------------------------------------------------------\u001B[0m",
      "\u001B[1;31mModuleNotFoundError\u001B[0m                       Traceback (most recent call last)",
      "Cell \u001B[1;32mIn[2], line 5\u001B[0m\n\u001B[0;32m      3\u001B[0m \u001B[38;5;28;01mimport\u001B[39;00m \u001B[38;5;21;01mmatplotlib\u001B[39;00m\u001B[38;5;21;01m.\u001B[39;00m\u001B[38;5;21;01mpyplot\u001B[39;00m \u001B[38;5;28;01mas\u001B[39;00m \u001B[38;5;21;01mplt\u001B[39;00m\n\u001B[0;32m      4\u001B[0m \u001B[38;5;28;01mimport\u001B[39;00m \u001B[38;5;21;01mseaborn\u001B[39;00m \u001B[38;5;28;01mas\u001B[39;00m \u001B[38;5;21;01msns\u001B[39;00m\n\u001B[1;32m----> 5\u001B[0m \u001B[38;5;28;01mfrom\u001B[39;00m \u001B[38;5;21;01msklearn\u001B[39;00m\u001B[38;5;21;01m.\u001B[39;00m\u001B[38;5;21;01mmodel_selection\u001B[39;00m \u001B[38;5;28;01mimport\u001B[39;00m train_test_split\n\u001B[0;32m      6\u001B[0m \u001B[38;5;28;01mfrom\u001B[39;00m \u001B[38;5;21;01msklearn\u001B[39;00m\u001B[38;5;21;01m.\u001B[39;00m\u001B[38;5;21;01mneighbors\u001B[39;00m \u001B[38;5;28;01mimport\u001B[39;00m KNeighborsRegressor\n\u001B[0;32m      7\u001B[0m \u001B[38;5;28;01mfrom\u001B[39;00m \u001B[38;5;21;01msklearn\u001B[39;00m\u001B[38;5;21;01m.\u001B[39;00m\u001B[38;5;21;01mmetrics\u001B[39;00m \u001B[38;5;28;01mimport\u001B[39;00m mean_absolute_error,accuracy_score,classification_report\n",
      "\u001B[1;31mModuleNotFoundError\u001B[0m: No module named 'sklearn.model_selection'"
     ]
    }
   ],
   "source": [
    "import pandas as pd\n",
    "import numpy as np\n",
    "import matplotlib.pyplot as plt\n",
    "import seaborn as sns\n",
    "from sklearn.model_selection import train_test_split\n",
    "from sklearn.neighbors import KNeighborsRegressor\n",
    "from sklearn.metrics import mean_absolute_error,accuracy_score,classification_report\n"
   ]
  },
  {
   "cell_type": "code",
   "source": [
    "data=pd.read_csv('C:\\\\Users\\\\tekno asya\\\\PycharmProjects\\\\WTFModelDeploymentGroup5\\\\Oral Cancer Consolidated-latest-numeric1 1.csv')\n",
    "data.head()"
   ],
   "metadata": {
    "colab": {
     "base_uri": "https://localhost:8080/",
     "height": 414
    },
    "id": "C1rBxrZl9Lxd",
    "outputId": "a42a4bff-d974-43a7-b4f6-4a2867f41f6d",
    "ExecuteTime": {
     "end_time": "2024-04-02T09:06:01.541959Z",
     "start_time": "2024-04-02T09:05:57.535958Z"
    }
   },
   "execution_count": 1,
   "outputs": [
    {
     "ename": "NameError",
     "evalue": "name 'pd' is not defined",
     "output_type": "error",
     "traceback": [
      "\u001B[1;31m---------------------------------------------------------------------------\u001B[0m",
      "\u001B[1;31mNameError\u001B[0m                                 Traceback (most recent call last)",
      "Cell \u001B[1;32mIn[1], line 1\u001B[0m\n\u001B[1;32m----> 1\u001B[0m data\u001B[38;5;241m=\u001B[39m\u001B[43mpd\u001B[49m\u001B[38;5;241m.\u001B[39mread_csv(\u001B[38;5;124m'\u001B[39m\u001B[38;5;124mC:\u001B[39m\u001B[38;5;130;01m\\\\\u001B[39;00m\u001B[38;5;124mUsers\u001B[39m\u001B[38;5;130;01m\\\\\u001B[39;00m\u001B[38;5;124mtekno asya\u001B[39m\u001B[38;5;130;01m\\\\\u001B[39;00m\u001B[38;5;124mPycharmProjects\u001B[39m\u001B[38;5;130;01m\\\\\u001B[39;00m\u001B[38;5;124mWTFModelDeploymentGroup5\u001B[39m\u001B[38;5;130;01m\\\\\u001B[39;00m\u001B[38;5;124mOral Cancer Consolidated-latest-numeric1 1.csv\u001B[39m\u001B[38;5;124m'\u001B[39m)\n\u001B[0;32m      2\u001B[0m data\u001B[38;5;241m.\u001B[39mhead()\n",
      "\u001B[1;31mNameError\u001B[0m: name 'pd' is not defined"
     ]
    }
   ]
  },
  {
   "cell_type": "markdown",
   "source": [
    "Drop all the columns with only True and False values because they are not useful for our model\n"
   ],
   "metadata": {
    "id": "qi3ppLPr-VTu"
   }
  },
  {
   "cell_type": "code",
   "source": [
    "data=data.drop(data.columns[6:18],axis=1)\n",
    "data.head()"
   ],
   "metadata": {
    "colab": {
     "base_uri": "https://localhost:8080/",
     "height": 206
    },
    "id": "idOE03bn-UGv",
    "outputId": "db7db697-ab85-4853-d690-d7b75dd57ab5",
    "ExecuteTime": {
     "start_time": "2024-04-02T08:57:56.620959Z"
    }
   },
   "execution_count": null,
   "outputs": []
  },
  {
   "cell_type": "code",
   "source": [
    "data.info()"
   ],
   "metadata": {
    "colab": {
     "base_uri": "https://localhost:8080/"
    },
    "id": "UJnA2X6O_PWG",
    "outputId": "aab60efd-d9ff-42d8-ee82-b91a51f83e19",
    "ExecuteTime": {
     "start_time": "2024-04-02T08:57:56.621959Z"
    }
   },
   "execution_count": null,
   "outputs": []
  },
  {
   "cell_type": "markdown",
   "source": [
    "We drop the columns with object type as well"
   ],
   "metadata": {
    "id": "u2RY72eJ_jEH"
   }
  },
  {
   "cell_type": "code",
   "source": [
    "data=data.drop(data.columns[:3],axis=1)\n",
    "data.head()"
   ],
   "metadata": {
    "colab": {
     "base_uri": "https://localhost:8080/",
     "height": 206
    },
    "id": "F3gwnSOu_fY7",
    "outputId": "7d13b3e6-8a59-4be4-a563-31fec5cfe6e2",
    "ExecuteTime": {
     "start_time": "2024-04-02T08:57:56.623959Z"
    }
   },
   "execution_count": null,
   "outputs": []
  },
  {
   "cell_type": "markdown",
   "source": [
    "Next we try to convert the Survival Time (days) column from object to integer type"
   ],
   "metadata": {
    "id": "yuQTsHeRA-Ww"
   }
  },
  {
   "cell_type": "code",
   "source": [
    "data=data['Survival Time (days)'].astype(int)"
   ],
   "metadata": {
    "colab": {
     "base_uri": "https://localhost:8080/",
     "height": 301
    },
    "id": "Bv07IhXK_72o",
    "outputId": "396a2ae7-0eb5-43fb-dd11-c942ab8e46b1",
    "ExecuteTime": {
     "start_time": "2024-04-02T08:57:56.624958Z"
    }
   },
   "execution_count": null,
   "outputs": []
  },
  {
   "cell_type": "markdown",
   "source": [
    "We have an error so we must check the values of our column"
   ],
   "metadata": {
    "id": "7eEA8XGLBihj"
   }
  },
  {
   "cell_type": "code",
   "source": [
    "data['Survival Time (days)'].unique()"
   ],
   "metadata": {
    "colab": {
     "base_uri": "https://localhost:8080/"
    },
    "id": "qGvUs8yKBg77",
    "outputId": "d46480b7-dd49-4fab-a2b4-3188af8cb082",
    "ExecuteTime": {
     "start_time": "2024-04-02T08:57:56.626959Z"
    }
   },
   "execution_count": null,
   "outputs": []
  },
  {
   "cell_type": "markdown",
   "source": [
    "There is a '?' value preventing us from converting our column to integer type. Therefore, we need to clean our data. We will replace it with the mean survival time."
   ],
   "metadata": {
    "id": "wxfvySeSB6Ol"
   }
  },
  {
   "cell_type": "code",
   "source": [
    "data['Survival Time (days)']=data['Survival Time (days)'].replace('?',0).astype(int)"
   ],
   "metadata": {
    "id": "tNPX2hh6CGLb"
   },
   "execution_count": null,
   "outputs": []
  },
  {
   "cell_type": "code",
   "source": [
    "data.info()"
   ],
   "metadata": {
    "colab": {
     "base_uri": "https://localhost:8080/"
    },
    "id": "MUSIOLdbENrA",
    "outputId": "325a14d5-88a4-491a-c33e-dbd867553be4",
    "ExecuteTime": {
     "start_time": "2024-04-02T08:57:56.629958Z"
    }
   },
   "execution_count": null,
   "outputs": []
  },
  {
   "cell_type": "markdown",
   "source": [
    "Now we replace the 0 we inserted earlier with the mean Survival Time"
   ],
   "metadata": {
    "id": "JWvuCY8-ESXs"
   }
  },
  {
   "cell_type": "code",
   "source": [
    "data_mean=data['Survival Time (days)'].mean().round().astype(int)\n",
    "data_mean"
   ],
   "metadata": {
    "colab": {
     "base_uri": "https://localhost:8080/"
    },
    "id": "E-ExB9Z4EY5t",
    "outputId": "23797e77-720d-482f-cf43-d50528f88f86",
    "ExecuteTime": {
     "start_time": "2024-04-02T08:57:56.630958Z"
    }
   },
   "execution_count": null,
   "outputs": []
  },
  {
   "cell_type": "code",
   "source": [
    "data['Survival Time (days)']=data['Survival Time (days)'].replace(0,data_mean)"
   ],
   "metadata": {
    "id": "_1RYmbxDEpqI",
    "ExecuteTime": {
     "start_time": "2024-04-02T08:57:56.631958Z"
    }
   },
   "execution_count": null,
   "outputs": []
  },
  {
   "cell_type": "code",
   "source": [
    "data.head()"
   ],
   "metadata": {
    "colab": {
     "base_uri": "https://localhost:8080/",
     "height": 206
    },
    "id": "VJYGQNdGE8e3",
    "outputId": "6bbb2828-f450-45ba-ac3e-5fd8fff90001",
    "ExecuteTime": {
     "start_time": "2024-04-02T08:57:56.632959Z"
    }
   },
   "execution_count": null,
   "outputs": []
  },
  {
   "cell_type": "code",
   "source": [],
   "metadata": {
    "id": "v9VCMBlrOdtB"
   },
   "execution_count": null,
   "outputs": []
  },
  {
   "cell_type": "markdown",
   "source": [
    "**EXPLORATORY DATA ANALYSIS**"
   ],
   "metadata": {
    "id": "U4t0DcGDHTFQ"
   }
  },
  {
   "cell_type": "markdown",
   "source": [
    "Checking the gender distribution"
   ],
   "metadata": {
    "id": "AKKXsf0fHgJV"
   }
  },
  {
   "cell_type": "code",
   "source": [
    "num_women=data['Gender'].sum()\n",
    "num_men=data.shape[0]-num_women\n",
    "total=[num_women,num_men]\n",
    "labels=['Women','Men']\n",
    "plt.pie(total,labels=labels,autopct='%1.1f%%')\n",
    "plt.legend()\n",
    "plt.show()"
   ],
   "metadata": {
    "colab": {
     "base_uri": "https://localhost:8080/",
     "height": 406
    },
    "id": "zAQuzfUpG1KX",
    "outputId": "087934de-ac0f-4d9f-8a26-d87541045bf0"
   },
   "execution_count": null,
   "outputs": []
  },
  {
   "cell_type": "markdown",
   "source": [
    "Plotting Age against Survival Time"
   ],
   "metadata": {
    "id": "sFBHeHlmHlN8"
   }
  },
  {
   "cell_type": "code",
   "source": [
    "plt.scatter(data['Age at Diagnosis'],data['Survival Time (days)'])\n",
    "plt.ylabel('Survival Time')\n",
    "plt.xlabel(\"Age\")\n",
    "plt.title(\"Survival Time vs Age\")"
   ],
   "metadata": {
    "colab": {
     "base_uri": "https://localhost:8080/",
     "height": 490
    },
    "id": "6b58M1ItIEDq",
    "outputId": "e262b813-3686-4af6-db8f-0a472328a7b1",
    "ExecuteTime": {
     "start_time": "2024-04-02T08:57:56.636959Z"
    }
   },
   "execution_count": null,
   "outputs": []
  },
  {
   "cell_type": "code",
   "source": [
    "sns.boxplot(data,x=data['Tumor Stage at Diagnosis'],y=data['Age at Diagnosis'])\n"
   ],
   "metadata": {
    "colab": {
     "base_uri": "https://localhost:8080/",
     "height": 467
    },
    "id": "tJfQZWnPI2s_",
    "outputId": "97988ec7-0f6f-488f-a63e-345fac28b124",
    "ExecuteTime": {
     "start_time": "2024-04-02T08:57:56.638958Z"
    }
   },
   "execution_count": null,
   "outputs": []
  },
  {
   "cell_type": "markdown",
   "source": [
    "From the box plot, we can see that most people that are diagnosed are above 30 years old."
   ],
   "metadata": {
    "id": "q_tXD5YSNSYk"
   }
  },
  {
   "cell_type": "code",
   "source": [
    "\n",
    "plt.pie(data['Tumor Stage at Diagnosis'].value_counts(),explode=(0.1,0.1,0.1,0.1), autopct='%1.1f%%',shadow=True, labels = ['10','20','30','40'],colors=['b','g','c','r'])\n",
    "plt.title(\"Tumor Stage Distribution in our data\")\n",
    "plt.show()"
   ],
   "metadata": {
    "colab": {
     "base_uri": "https://localhost:8080/",
     "height": 428
    },
    "id": "4BsEW4uoJac7",
    "outputId": "169f5a4b-4f7e-451f-a506-1ef6841b5638"
   },
   "execution_count": null,
   "outputs": []
  },
  {
   "cell_type": "code",
   "source": [
    "plt.hist(data['Age at Diagnosis'])\n",
    "plt.title(\"Age distribution in our data\")\n",
    "plt.xlabel(\"Age at Diagnosis\")"
   ],
   "metadata": {
    "colab": {
     "base_uri": "https://localhost:8080/",
     "height": 490
    },
    "id": "bxQH8PfOLuaj",
    "outputId": "9cc4ac15-9c4b-4291-97da-47be82621f6c"
   },
   "execution_count": null,
   "outputs": []
  },
  {
   "cell_type": "code",
   "source": [
    "sns.pairplot(data,x_vars=['Gender','Age at Diagnosis','Mutated Genes','Tumor Stage at Diagnosis'],y_vars=['Survival Time (days)'],kind='reg')"
   ],
   "metadata": {
    "colab": {
     "base_uri": "https://localhost:8080/",
     "height": 286
    },
    "id": "s7XzaxbQFP5q",
    "outputId": "9bb88690-271b-4b21-d646-910fcba45fb2"
   },
   "execution_count": null,
   "outputs": []
  },
  {
   "cell_type": "code",
   "source": [
    "data.corr()"
   ],
   "metadata": {
    "colab": {
     "base_uri": "https://localhost:8080/",
     "height": 206
    },
    "id": "QSdNVo_YGjl9",
    "outputId": "4956493f-32b6-4dd7-b517-209c890ce95a",
    "ExecuteTime": {
     "start_time": "2024-04-02T08:57:56.643958Z"
    }
   },
   "execution_count": null,
   "outputs": []
  },
  {
   "cell_type": "code",
   "source": [
    "X=data.drop('Survival Time (days)',axis=1).values #Independent variables\n",
    "y=data['Survival Time (days)'].values #Dependent variable\n",
    "train_x, test_x, train_y, test_y = train_test_split(X, y, test_size=0.2, random_state=4)"
   ],
   "metadata": {
    "id": "PD0ARgePQM06"
   },
   "execution_count": null,
   "outputs": []
  },
  {
   "cell_type": "code",
   "source": [
    "k_val_min = 2\n",
    "test_MAE_array = []\n",
    "k_array = []\n",
    "MAE = 1000000000\n",
    "count=0\n",
    "for k in range(2, 20):\n",
    "    count+=1\n",
    "    print(f\"Iteration number {count}.......\")\n",
    "    model = KNeighborsRegressor(n_neighbors=k).fit(train_x, train_y)\n",
    "    y_predict = model.predict(test_x)\n",
    "    y_true = test_y\n",
    "    test_MAE = mean_absolute_error(y_true, y_predict)\n",
    "    print(f\"The current MAE is {test_MAE}\")\n",
    "    if test_MAE < MAE:\n",
    "        MAE = test_MAE\n",
    "        k_val_min = k\n",
    "    test_MAE_array.append(test_MAE)\n",
    "    k_array.append(k)\n",
    "\n",
    "    print(f\"The current best k value is {k_val_min} and the lowest MAE is {MAE}\")\n",
    "\n",
    "plt.plot(k_array, test_MAE_array,'r')\n",
    "plt.show()"
   ],
   "metadata": {
    "colab": {
     "base_uri": "https://localhost:8080/",
     "height": 1000
    },
    "id": "U0a7CCTUNppU",
    "outputId": "752c5f2d-ab2b-4bf5-c33d-2f6b3238a900",
    "ExecuteTime": {
     "start_time": "2024-04-02T08:57:56.650959Z"
    }
   },
   "execution_count": null,
   "outputs": []
  },
  {
   "cell_type": "markdown",
   "source": [
    "From our code, the best value of k is 9."
   ],
   "metadata": {
    "id": "3HzM5C4OUdsu"
   }
  },
  {
   "cell_type": "code",
   "source": [
    "model=KNeighborsRegressor(n_neighbors=9)\n",
    "model.fit(train_x,train_y)\n",
    "predictions=model.predict(test_x)\n"
   ],
   "metadata": {
    "id": "Bm5F59I7Um8n",
    "ExecuteTime": {
     "start_time": "2024-04-02T08:57:57.359818Z"
    }
   },
   "execution_count": null,
   "outputs": []
  },
  {
   "cell_type": "code",
   "outputs": [],
   "source": [
    "import pickle\n",
    "import os\n",
    "model_data={'model': model}\n",
    "\n",
    "# File path where you want to save the model\n",
    "file_path = 'C:\\\\Users\\\\tekno asya\\\\PycharmProjects\\\\WTFModelDeploymentGroup5\\\\model.pkl'\n",
    "\n",
    "# Ensure the directory exists, create it if it doesn't\n",
    "directory = os.path.dirname(file_path)\n",
    "if not os.path.exists(directory):\n",
    "    os.makedirs(directory)\n",
    "\n",
    "# Save the model to the file\n",
    "try:\n",
    "    with open(file_path, 'wb') as file:\n",
    "        pickle.dump(model_data, file)\n",
    "    print(f\"Data saved successfully to {file_path}\")\n",
    "except Exception as e:\n",
    "    print(\"Error occurred while saving data:\", e)\n"
   ],
   "metadata": {
    "collapsed": false
   },
   "execution_count": null
  },
  {
   "cell_type": "code",
   "outputs": [],
   "source": [
    "with open(file_path,'rb') as file:\n",
    "    model_data=pickle.load(file)\n",
    "model=model_data['model']"
   ],
   "metadata": {
    "collapsed": false,
    "ExecuteTime": {
     "start_time": "2024-04-02T08:57:57.406678Z"
    }
   },
   "execution_count": null
  },
  {
   "cell_type": "code",
   "outputs": [],
   "source": [
    "data['Mutated Genes'].min()"
   ],
   "metadata": {
    "collapsed": false,
    "ExecuteTime": {
     "start_time": "2024-04-02T08:57:57.422298Z"
    }
   },
   "execution_count": null
  },
  {
   "cell_type": "markdown",
   "source": [],
   "metadata": {
    "collapsed": false
   }
  },
  {
   "cell_type": "code",
   "outputs": [],
   "source": [
    "val=np.array([1,55,145,20]).reshape(1,-1)\n",
    "print(model.predict(val)[0])"
   ],
   "metadata": {
    "collapsed": false,
    "ExecuteTime": {
     "start_time": "2024-04-02T08:57:57.437918Z"
    }
   },
   "execution_count": null
  },
  {
   "cell_type": "code",
   "outputs": [],
   "source": [
    "gender='Male'\n",
    "age=12\n",
    "genemutations=234\n",
    "tumorstage=40\n",
    "\n",
    "gender_encoded = 0 if gender == 'Male' else 1  # Encoding gender as numerical value\n",
    "\n",
    "        # Create feature vector\n",
    "X = np.array([gender_encoded, age, genemutations, tumorstage],dtype=int).reshape(1, -1)\n",
    "X\n",
    "\n",
    "        #"
   ],
   "metadata": {
    "collapsed": false,
    "ExecuteTime": {
     "start_time": "2024-04-02T08:57:57.453538Z"
    }
   },
   "execution_count": null
  },
  {
   "cell_type": "code",
   "outputs": [],
   "source": [
    "model.predict(X)[0]"
   ],
   "metadata": {
    "collapsed": false,
    "ExecuteTime": {
     "start_time": "2024-04-02T08:57:57.484778Z"
    }
   },
   "execution_count": null
  },
  {
   "cell_type": "code",
   "outputs": [],
   "source": [],
   "metadata": {
    "collapsed": false
   }
  }
 ]
}
