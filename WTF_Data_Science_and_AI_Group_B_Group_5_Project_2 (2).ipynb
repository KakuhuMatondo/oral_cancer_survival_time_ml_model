{
 "nbformat": 4,
 "nbformat_minor": 0,
 "metadata": {
  "colab": {
   "provenance": []
  },
  "kernelspec": {
   "name": "python3",
   "language": "python",
   "display_name": "Python 3 (ipykernel)"
  },
  "language_info": {
   "name": "python"
  }
 },
 "cells": [
  {
   "cell_type": "markdown",
   "source": [
    "Assignment Question:\n",
    "\n",
    "Some ML algorithms\n",
    "\n",
    "KNN\n",
    "\n",
    "SVM\n",
    "\n",
    "Decision Trees\n",
    "\n",
    "Random forest\n",
    "\n",
    "Research the algorithms above and write a brief review of each.\n",
    "Implement any of them or other algorithms that you may like as an end-to-end project. That means you should present a project that involves data cleaning, EDA, data preprocessing, Model building, and model evaluation. Remember to use proper documentation (most of the exercises you submitted last week were not properly documented).\n",
    "This is a group project, please spend Monday and Tuesday working on this project. Let me know if you have any challenges.\n",
    "PS: I suggest you check out sample projects on Kaggle."
   ],
   "metadata": {
    "id": "gONz8BCY1ZEP"
   }
  },
  {
   "cell_type": "markdown",
   "source": [
    "**SOLUTIONS**"
   ],
   "metadata": {
    "id": "48rnCouM7TV3"
   }
  },
  {
   "cell_type": "markdown",
   "source": [
    " * K-Nearest Neighbours is a simple yet powerful machine learning algorithm used for classification and regression tasks. It predicts the label or value of a new data point based on the majority class or average value of its k nearest neighbors in the feature space. The choice of k is crucial, impacting model performance, with smaller values risking overfitting and larger ones leading to underfitting. Despite its simplicity and effectiveness, KNN's computational cost grows with dataset size, and its performance relies on distance metric choice and data distribution.\n",
    "\n",
    "\n",
    "   \n",
    " * Support Vector Machine Support is a machine learning method for classification and regression tasks. It finds the best line or boundary to separate different classes of data while maximizing the space between the data points and this line. It can handle both linear and nonlinear relationships and works well with small to medium-sized datasets. However, it can be computationally intensive and requires careful selection of parameters for optimal performance.\n",
    "\n",
    " * Decision Tree is a machine learning model that makes predictions by dividing the data into branches based on features, forming a hierarchical structure. It's straightforward and interpretable, suitable for classification and regression tasks. However, it may overfit and require tuning to improve generalization.\n",
    "\n",
    " * Random Forest is a machine learning approach that harnesses the collective wisdom of multiple decision trees. Instead of relying on a single decision tree, it builds a \"forest\" of trees, each trained on a random subset of the data and a random subset of features. This randomness introduces diversity among the trees, which helps to reduce overfitting and improve generalization. When making predictions, the Random Forest combines the outputs of all the trees, typically through a voting mechanism for classification tasks or averaging for regression tasks. This ensemble approach often results in more accurate and robust predictions compared to individual trees. Random Forest is widely used across various domains due to its versatility, scalability, and ability to handle complex datasets with high-dimensional features. Additionally, it provides insights into feature importance, making it valuable for feature selection and understanding the underlying patterns in the data.\n",
    "\n",
    "\n"
   ],
   "metadata": {
    "id": "TNVdoq8j2G5s"
   }
  },
  {
   "cell_type": "code",
   "execution_count": 4,
   "metadata": {
    "id": "Cuiwfs_H1XRg",
    "ExecuteTime": {
     "end_time": "2024-03-30T11:02:26.763480Z",
     "start_time": "2024-03-30T11:02:26.736737Z"
    }
   },
   "outputs": [],
   "source": [
    "import pandas as pd\n",
    "import numpy as np\n",
    "import matplotlib.pyplot as plt\n",
    "import seaborn as sns\n",
    "from sklearn.model_selection import train_test_split\n",
    "from sklearn.neighbors import KNeighborsRegressor\n",
    "from sklearn.metrics import mean_absolute_error,accuracy_score,classification_report\n"
   ]
  },
  {
   "cell_type": "code",
   "source": [
    "data=pd.read_csv('C:\\\\Users\\\\tekno asya\\\\PycharmProjects\\\\WTFModelDeploymentGroup5\\\\Oral Cancer Consolidated-latest-numeric1 1.csv')\n",
    "data.head()"
   ],
   "metadata": {
    "colab": {
     "base_uri": "https://localhost:8080/",
     "height": 414
    },
    "id": "C1rBxrZl9Lxd",
    "outputId": "a42a4bff-d974-43a7-b4f6-4a2867f41f6d",
    "ExecuteTime": {
     "end_time": "2024-03-30T11:02:28.249288Z",
     "start_time": "2024-03-30T11:02:27.718821Z"
    }
   },
   "execution_count": 5,
   "outputs": [
    {
     "data": {
      "text/plain": "  Donor ID Project Code   Primary Site  Gender  Age at Diagnosis  \\\n0  DO27935      ORCA-IN  Head and neck       1                55   \n1  DO50673      ORCA-IN  Head and neck       1                45   \n2  DO50723      ORCA-IN  Head and neck       0                65   \n3  DO27917      ORCA-IN  Head and neck       1                40   \n4  DO50725      ORCA-IN  Head and neck       1                26   \n\n  Survival Time (days)   SSM   CNSM   STSM    SGV  METH-A  METH-S  EXP-A  \\\n0                  788  True  False  False  False   False   False  False   \n1                 1206  True  False  False  False   False   False  False   \n2                  354  True  False  False  False   False   False  False   \n3                  224  True  False  False  False   False   False  False   \n4                  285  True  False  False  False   False   False  False   \n\n   EXP-S   PEXP  miRNA-S    JCN  Mutations  Mutated Genes  \\\n0  False  False    False  False         98            145   \n1  False  False    False  False        168            265   \n2  False  False    False  False         69            122   \n3  False  False    False  False         31             44   \n4  False  False    False  False        192            278   \n\n   Tumor Stage at Diagnosis  \n0                        20  \n1                        20  \n2                        20  \n3                        20  \n4                        20  ",
      "text/html": "<div>\n<style scoped>\n    .dataframe tbody tr th:only-of-type {\n        vertical-align: middle;\n    }\n\n    .dataframe tbody tr th {\n        vertical-align: top;\n    }\n\n    .dataframe thead th {\n        text-align: right;\n    }\n</style>\n<table border=\"1\" class=\"dataframe\">\n  <thead>\n    <tr style=\"text-align: right;\">\n      <th></th>\n      <th>Donor ID</th>\n      <th>Project Code</th>\n      <th>Primary Site</th>\n      <th>Gender</th>\n      <th>Age at Diagnosis</th>\n      <th>Survival Time (days)</th>\n      <th>SSM</th>\n      <th>CNSM</th>\n      <th>STSM</th>\n      <th>SGV</th>\n      <th>METH-A</th>\n      <th>METH-S</th>\n      <th>EXP-A</th>\n      <th>EXP-S</th>\n      <th>PEXP</th>\n      <th>miRNA-S</th>\n      <th>JCN</th>\n      <th>Mutations</th>\n      <th>Mutated Genes</th>\n      <th>Tumor Stage at Diagnosis</th>\n    </tr>\n  </thead>\n  <tbody>\n    <tr>\n      <th>0</th>\n      <td>DO27935</td>\n      <td>ORCA-IN</td>\n      <td>Head and neck</td>\n      <td>1</td>\n      <td>55</td>\n      <td>788</td>\n      <td>True</td>\n      <td>False</td>\n      <td>False</td>\n      <td>False</td>\n      <td>False</td>\n      <td>False</td>\n      <td>False</td>\n      <td>False</td>\n      <td>False</td>\n      <td>False</td>\n      <td>False</td>\n      <td>98</td>\n      <td>145</td>\n      <td>20</td>\n    </tr>\n    <tr>\n      <th>1</th>\n      <td>DO50673</td>\n      <td>ORCA-IN</td>\n      <td>Head and neck</td>\n      <td>1</td>\n      <td>45</td>\n      <td>1206</td>\n      <td>True</td>\n      <td>False</td>\n      <td>False</td>\n      <td>False</td>\n      <td>False</td>\n      <td>False</td>\n      <td>False</td>\n      <td>False</td>\n      <td>False</td>\n      <td>False</td>\n      <td>False</td>\n      <td>168</td>\n      <td>265</td>\n      <td>20</td>\n    </tr>\n    <tr>\n      <th>2</th>\n      <td>DO50723</td>\n      <td>ORCA-IN</td>\n      <td>Head and neck</td>\n      <td>0</td>\n      <td>65</td>\n      <td>354</td>\n      <td>True</td>\n      <td>False</td>\n      <td>False</td>\n      <td>False</td>\n      <td>False</td>\n      <td>False</td>\n      <td>False</td>\n      <td>False</td>\n      <td>False</td>\n      <td>False</td>\n      <td>False</td>\n      <td>69</td>\n      <td>122</td>\n      <td>20</td>\n    </tr>\n    <tr>\n      <th>3</th>\n      <td>DO27917</td>\n      <td>ORCA-IN</td>\n      <td>Head and neck</td>\n      <td>1</td>\n      <td>40</td>\n      <td>224</td>\n      <td>True</td>\n      <td>False</td>\n      <td>False</td>\n      <td>False</td>\n      <td>False</td>\n      <td>False</td>\n      <td>False</td>\n      <td>False</td>\n      <td>False</td>\n      <td>False</td>\n      <td>False</td>\n      <td>31</td>\n      <td>44</td>\n      <td>20</td>\n    </tr>\n    <tr>\n      <th>4</th>\n      <td>DO50725</td>\n      <td>ORCA-IN</td>\n      <td>Head and neck</td>\n      <td>1</td>\n      <td>26</td>\n      <td>285</td>\n      <td>True</td>\n      <td>False</td>\n      <td>False</td>\n      <td>False</td>\n      <td>False</td>\n      <td>False</td>\n      <td>False</td>\n      <td>False</td>\n      <td>False</td>\n      <td>False</td>\n      <td>False</td>\n      <td>192</td>\n      <td>278</td>\n      <td>20</td>\n    </tr>\n  </tbody>\n</table>\n</div>"
     },
     "execution_count": 5,
     "metadata": {},
     "output_type": "execute_result"
    }
   ]
  },
  {
   "cell_type": "markdown",
   "source": [
    "Drop all the columns with only True and False values because they are not useful for our model\n"
   ],
   "metadata": {
    "id": "qi3ppLPr-VTu"
   }
  },
  {
   "cell_type": "code",
   "source": [
    "data=data.drop(data.columns[6:18],axis=1)\n",
    "data.head()"
   ],
   "metadata": {
    "colab": {
     "base_uri": "https://localhost:8080/",
     "height": 206
    },
    "id": "idOE03bn-UGv",
    "outputId": "db7db697-ab85-4853-d690-d7b75dd57ab5",
    "ExecuteTime": {
     "end_time": "2024-03-30T11:02:29.225576Z",
     "start_time": "2024-03-30T11:02:28.435932Z"
    }
   },
   "execution_count": 6,
   "outputs": [
    {
     "data": {
      "text/plain": "  Donor ID Project Code   Primary Site  Gender  Age at Diagnosis  \\\n0  DO27935      ORCA-IN  Head and neck       1                55   \n1  DO50673      ORCA-IN  Head and neck       1                45   \n2  DO50723      ORCA-IN  Head and neck       0                65   \n3  DO27917      ORCA-IN  Head and neck       1                40   \n4  DO50725      ORCA-IN  Head and neck       1                26   \n\n  Survival Time (days)  Mutated Genes  Tumor Stage at Diagnosis  \n0                  788            145                        20  \n1                 1206            265                        20  \n2                  354            122                        20  \n3                  224             44                        20  \n4                  285            278                        20  ",
      "text/html": "<div>\n<style scoped>\n    .dataframe tbody tr th:only-of-type {\n        vertical-align: middle;\n    }\n\n    .dataframe tbody tr th {\n        vertical-align: top;\n    }\n\n    .dataframe thead th {\n        text-align: right;\n    }\n</style>\n<table border=\"1\" class=\"dataframe\">\n  <thead>\n    <tr style=\"text-align: right;\">\n      <th></th>\n      <th>Donor ID</th>\n      <th>Project Code</th>\n      <th>Primary Site</th>\n      <th>Gender</th>\n      <th>Age at Diagnosis</th>\n      <th>Survival Time (days)</th>\n      <th>Mutated Genes</th>\n      <th>Tumor Stage at Diagnosis</th>\n    </tr>\n  </thead>\n  <tbody>\n    <tr>\n      <th>0</th>\n      <td>DO27935</td>\n      <td>ORCA-IN</td>\n      <td>Head and neck</td>\n      <td>1</td>\n      <td>55</td>\n      <td>788</td>\n      <td>145</td>\n      <td>20</td>\n    </tr>\n    <tr>\n      <th>1</th>\n      <td>DO50673</td>\n      <td>ORCA-IN</td>\n      <td>Head and neck</td>\n      <td>1</td>\n      <td>45</td>\n      <td>1206</td>\n      <td>265</td>\n      <td>20</td>\n    </tr>\n    <tr>\n      <th>2</th>\n      <td>DO50723</td>\n      <td>ORCA-IN</td>\n      <td>Head and neck</td>\n      <td>0</td>\n      <td>65</td>\n      <td>354</td>\n      <td>122</td>\n      <td>20</td>\n    </tr>\n    <tr>\n      <th>3</th>\n      <td>DO27917</td>\n      <td>ORCA-IN</td>\n      <td>Head and neck</td>\n      <td>1</td>\n      <td>40</td>\n      <td>224</td>\n      <td>44</td>\n      <td>20</td>\n    </tr>\n    <tr>\n      <th>4</th>\n      <td>DO50725</td>\n      <td>ORCA-IN</td>\n      <td>Head and neck</td>\n      <td>1</td>\n      <td>26</td>\n      <td>285</td>\n      <td>278</td>\n      <td>20</td>\n    </tr>\n  </tbody>\n</table>\n</div>"
     },
     "execution_count": 6,
     "metadata": {},
     "output_type": "execute_result"
    }
   ]
  },
  {
   "cell_type": "code",
   "source": [
    "data.info()"
   ],
   "metadata": {
    "colab": {
     "base_uri": "https://localhost:8080/"
    },
    "id": "UJnA2X6O_PWG",
    "outputId": "aab60efd-d9ff-42d8-ee82-b91a51f83e19",
    "ExecuteTime": {
     "end_time": "2024-03-30T11:02:29.567291Z",
     "start_time": "2024-03-30T11:02:29.228946Z"
    }
   },
   "execution_count": 7,
   "outputs": [
    {
     "name": "stdout",
     "output_type": "stream",
     "text": [
      "<class 'pandas.core.frame.DataFrame'>\n",
      "RangeIndex: 1505 entries, 0 to 1504\n",
      "Data columns (total 8 columns):\n",
      " #   Column                    Non-Null Count  Dtype \n",
      "---  ------                    --------------  ----- \n",
      " 0   Donor ID                  1505 non-null   object\n",
      " 1   Project Code              1505 non-null   object\n",
      " 2   Primary Site              1505 non-null   object\n",
      " 3   Gender                    1505 non-null   int64 \n",
      " 4   Age at Diagnosis          1505 non-null   int64 \n",
      " 5   Survival Time (days)      1505 non-null   object\n",
      " 6   Mutated Genes             1505 non-null   int64 \n",
      " 7   Tumor Stage at Diagnosis  1505 non-null   int64 \n",
      "dtypes: int64(4), object(4)\n",
      "memory usage: 94.2+ KB\n"
     ]
    }
   ]
  },
  {
   "cell_type": "markdown",
   "source": [
    "We drop the columns with object type as well"
   ],
   "metadata": {
    "id": "u2RY72eJ_jEH"
   }
  },
  {
   "cell_type": "code",
   "source": [
    "data=data.drop(data.columns[:3],axis=1)\n",
    "data.head()"
   ],
   "metadata": {
    "colab": {
     "base_uri": "https://localhost:8080/",
     "height": 206
    },
    "id": "F3gwnSOu_fY7",
    "outputId": "7d13b3e6-8a59-4be4-a563-31fec5cfe6e2",
    "ExecuteTime": {
     "end_time": "2024-03-30T11:02:29.633525Z",
     "start_time": "2024-03-30T11:02:29.575119Z"
    }
   },
   "execution_count": 8,
   "outputs": [
    {
     "data": {
      "text/plain": "   Gender  Age at Diagnosis Survival Time (days)  Mutated Genes  \\\n0       1                55                  788            145   \n1       1                45                 1206            265   \n2       0                65                  354            122   \n3       1                40                  224             44   \n4       1                26                  285            278   \n\n   Tumor Stage at Diagnosis  \n0                        20  \n1                        20  \n2                        20  \n3                        20  \n4                        20  ",
      "text/html": "<div>\n<style scoped>\n    .dataframe tbody tr th:only-of-type {\n        vertical-align: middle;\n    }\n\n    .dataframe tbody tr th {\n        vertical-align: top;\n    }\n\n    .dataframe thead th {\n        text-align: right;\n    }\n</style>\n<table border=\"1\" class=\"dataframe\">\n  <thead>\n    <tr style=\"text-align: right;\">\n      <th></th>\n      <th>Gender</th>\n      <th>Age at Diagnosis</th>\n      <th>Survival Time (days)</th>\n      <th>Mutated Genes</th>\n      <th>Tumor Stage at Diagnosis</th>\n    </tr>\n  </thead>\n  <tbody>\n    <tr>\n      <th>0</th>\n      <td>1</td>\n      <td>55</td>\n      <td>788</td>\n      <td>145</td>\n      <td>20</td>\n    </tr>\n    <tr>\n      <th>1</th>\n      <td>1</td>\n      <td>45</td>\n      <td>1206</td>\n      <td>265</td>\n      <td>20</td>\n    </tr>\n    <tr>\n      <th>2</th>\n      <td>0</td>\n      <td>65</td>\n      <td>354</td>\n      <td>122</td>\n      <td>20</td>\n    </tr>\n    <tr>\n      <th>3</th>\n      <td>1</td>\n      <td>40</td>\n      <td>224</td>\n      <td>44</td>\n      <td>20</td>\n    </tr>\n    <tr>\n      <th>4</th>\n      <td>1</td>\n      <td>26</td>\n      <td>285</td>\n      <td>278</td>\n      <td>20</td>\n    </tr>\n  </tbody>\n</table>\n</div>"
     },
     "execution_count": 8,
     "metadata": {},
     "output_type": "execute_result"
    }
   ]
  },
  {
   "cell_type": "markdown",
   "source": [
    "Next we try to convert the Survival Time (days) column from object to integer type"
   ],
   "metadata": {
    "id": "yuQTsHeRA-Ww"
   }
  },
  {
   "cell_type": "code",
   "source": [
    "data=data['Survival Time (days)'].astype(int)"
   ],
   "metadata": {
    "colab": {
     "base_uri": "https://localhost:8080/",
     "height": 301
    },
    "id": "Bv07IhXK_72o",
    "outputId": "396a2ae7-0eb5-43fb-dd11-c942ab8e46b1",
    "ExecuteTime": {
     "end_time": "2024-03-30T11:02:51.776127Z",
     "start_time": "2024-03-30T11:02:29.649710Z"
    }
   },
   "execution_count": 9,
   "outputs": [
    {
     "ename": "ValueError",
     "evalue": "invalid literal for int() with base 10: '?'",
     "output_type": "error",
     "traceback": [
      "\u001B[1;31m---------------------------------------------------------------------------\u001B[0m",
      "\u001B[1;31mValueError\u001B[0m                                Traceback (most recent call last)",
      "Cell \u001B[1;32mIn[9], line 1\u001B[0m\n\u001B[1;32m----> 1\u001B[0m data\u001B[38;5;241m=\u001B[39m\u001B[43mdata\u001B[49m\u001B[43m[\u001B[49m\u001B[38;5;124;43m'\u001B[39;49m\u001B[38;5;124;43mSurvival Time (days)\u001B[39;49m\u001B[38;5;124;43m'\u001B[39;49m\u001B[43m]\u001B[49m\u001B[38;5;241;43m.\u001B[39;49m\u001B[43mastype\u001B[49m\u001B[43m(\u001B[49m\u001B[38;5;28;43mint\u001B[39;49m\u001B[43m)\u001B[49m\n",
      "File \u001B[1;32m~\\anaconda3\\envs\\ml\\lib\\site-packages\\pandas\\core\\generic.py:6640\u001B[0m, in \u001B[0;36mNDFrame.astype\u001B[1;34m(self, dtype, copy, errors)\u001B[0m\n\u001B[0;32m   6634\u001B[0m     results \u001B[38;5;241m=\u001B[39m [\n\u001B[0;32m   6635\u001B[0m         ser\u001B[38;5;241m.\u001B[39mastype(dtype, copy\u001B[38;5;241m=\u001B[39mcopy, errors\u001B[38;5;241m=\u001B[39merrors) \u001B[38;5;28;01mfor\u001B[39;00m _, ser \u001B[38;5;129;01min\u001B[39;00m \u001B[38;5;28mself\u001B[39m\u001B[38;5;241m.\u001B[39mitems()\n\u001B[0;32m   6636\u001B[0m     ]\n\u001B[0;32m   6638\u001B[0m \u001B[38;5;28;01melse\u001B[39;00m:\n\u001B[0;32m   6639\u001B[0m     \u001B[38;5;66;03m# else, only a single dtype is given\u001B[39;00m\n\u001B[1;32m-> 6640\u001B[0m     new_data \u001B[38;5;241m=\u001B[39m \u001B[38;5;28;43mself\u001B[39;49m\u001B[38;5;241;43m.\u001B[39;49m\u001B[43m_mgr\u001B[49m\u001B[38;5;241;43m.\u001B[39;49m\u001B[43mastype\u001B[49m\u001B[43m(\u001B[49m\u001B[43mdtype\u001B[49m\u001B[38;5;241;43m=\u001B[39;49m\u001B[43mdtype\u001B[49m\u001B[43m,\u001B[49m\u001B[43m \u001B[49m\u001B[43mcopy\u001B[49m\u001B[38;5;241;43m=\u001B[39;49m\u001B[43mcopy\u001B[49m\u001B[43m,\u001B[49m\u001B[43m \u001B[49m\u001B[43merrors\u001B[49m\u001B[38;5;241;43m=\u001B[39;49m\u001B[43merrors\u001B[49m\u001B[43m)\u001B[49m\n\u001B[0;32m   6641\u001B[0m     res \u001B[38;5;241m=\u001B[39m \u001B[38;5;28mself\u001B[39m\u001B[38;5;241m.\u001B[39m_constructor_from_mgr(new_data, axes\u001B[38;5;241m=\u001B[39mnew_data\u001B[38;5;241m.\u001B[39maxes)\n\u001B[0;32m   6642\u001B[0m     \u001B[38;5;28;01mreturn\u001B[39;00m res\u001B[38;5;241m.\u001B[39m__finalize__(\u001B[38;5;28mself\u001B[39m, method\u001B[38;5;241m=\u001B[39m\u001B[38;5;124m\"\u001B[39m\u001B[38;5;124mastype\u001B[39m\u001B[38;5;124m\"\u001B[39m)\n",
      "File \u001B[1;32m~\\anaconda3\\envs\\ml\\lib\\site-packages\\pandas\\core\\internals\\managers.py:430\u001B[0m, in \u001B[0;36mBaseBlockManager.astype\u001B[1;34m(self, dtype, copy, errors)\u001B[0m\n\u001B[0;32m    427\u001B[0m \u001B[38;5;28;01melif\u001B[39;00m using_copy_on_write():\n\u001B[0;32m    428\u001B[0m     copy \u001B[38;5;241m=\u001B[39m \u001B[38;5;28;01mFalse\u001B[39;00m\n\u001B[1;32m--> 430\u001B[0m \u001B[38;5;28;01mreturn\u001B[39;00m \u001B[38;5;28;43mself\u001B[39;49m\u001B[38;5;241;43m.\u001B[39;49m\u001B[43mapply\u001B[49m\u001B[43m(\u001B[49m\n\u001B[0;32m    431\u001B[0m \u001B[43m    \u001B[49m\u001B[38;5;124;43m\"\u001B[39;49m\u001B[38;5;124;43mastype\u001B[39;49m\u001B[38;5;124;43m\"\u001B[39;49m\u001B[43m,\u001B[49m\n\u001B[0;32m    432\u001B[0m \u001B[43m    \u001B[49m\u001B[43mdtype\u001B[49m\u001B[38;5;241;43m=\u001B[39;49m\u001B[43mdtype\u001B[49m\u001B[43m,\u001B[49m\n\u001B[0;32m    433\u001B[0m \u001B[43m    \u001B[49m\u001B[43mcopy\u001B[49m\u001B[38;5;241;43m=\u001B[39;49m\u001B[43mcopy\u001B[49m\u001B[43m,\u001B[49m\n\u001B[0;32m    434\u001B[0m \u001B[43m    \u001B[49m\u001B[43merrors\u001B[49m\u001B[38;5;241;43m=\u001B[39;49m\u001B[43merrors\u001B[49m\u001B[43m,\u001B[49m\n\u001B[0;32m    435\u001B[0m \u001B[43m    \u001B[49m\u001B[43musing_cow\u001B[49m\u001B[38;5;241;43m=\u001B[39;49m\u001B[43musing_copy_on_write\u001B[49m\u001B[43m(\u001B[49m\u001B[43m)\u001B[49m\u001B[43m,\u001B[49m\n\u001B[0;32m    436\u001B[0m \u001B[43m\u001B[49m\u001B[43m)\u001B[49m\n",
      "File \u001B[1;32m~\\anaconda3\\envs\\ml\\lib\\site-packages\\pandas\\core\\internals\\managers.py:363\u001B[0m, in \u001B[0;36mBaseBlockManager.apply\u001B[1;34m(self, f, align_keys, **kwargs)\u001B[0m\n\u001B[0;32m    361\u001B[0m         applied \u001B[38;5;241m=\u001B[39m b\u001B[38;5;241m.\u001B[39mapply(f, \u001B[38;5;241m*\u001B[39m\u001B[38;5;241m*\u001B[39mkwargs)\n\u001B[0;32m    362\u001B[0m     \u001B[38;5;28;01melse\u001B[39;00m:\n\u001B[1;32m--> 363\u001B[0m         applied \u001B[38;5;241m=\u001B[39m \u001B[38;5;28mgetattr\u001B[39m(b, f)(\u001B[38;5;241m*\u001B[39m\u001B[38;5;241m*\u001B[39mkwargs)\n\u001B[0;32m    364\u001B[0m     result_blocks \u001B[38;5;241m=\u001B[39m extend_blocks(applied, result_blocks)\n\u001B[0;32m    366\u001B[0m out \u001B[38;5;241m=\u001B[39m \u001B[38;5;28mtype\u001B[39m(\u001B[38;5;28mself\u001B[39m)\u001B[38;5;241m.\u001B[39mfrom_blocks(result_blocks, \u001B[38;5;28mself\u001B[39m\u001B[38;5;241m.\u001B[39maxes)\n",
      "File \u001B[1;32m~\\anaconda3\\envs\\ml\\lib\\site-packages\\pandas\\core\\internals\\blocks.py:758\u001B[0m, in \u001B[0;36mBlock.astype\u001B[1;34m(self, dtype, copy, errors, using_cow, squeeze)\u001B[0m\n\u001B[0;32m    755\u001B[0m         \u001B[38;5;28;01mraise\u001B[39;00m \u001B[38;5;167;01mValueError\u001B[39;00m(\u001B[38;5;124m\"\u001B[39m\u001B[38;5;124mCan not squeeze with more than one column.\u001B[39m\u001B[38;5;124m\"\u001B[39m)\n\u001B[0;32m    756\u001B[0m     values \u001B[38;5;241m=\u001B[39m values[\u001B[38;5;241m0\u001B[39m, :]  \u001B[38;5;66;03m# type: ignore[call-overload]\u001B[39;00m\n\u001B[1;32m--> 758\u001B[0m new_values \u001B[38;5;241m=\u001B[39m \u001B[43mastype_array_safe\u001B[49m\u001B[43m(\u001B[49m\u001B[43mvalues\u001B[49m\u001B[43m,\u001B[49m\u001B[43m \u001B[49m\u001B[43mdtype\u001B[49m\u001B[43m,\u001B[49m\u001B[43m \u001B[49m\u001B[43mcopy\u001B[49m\u001B[38;5;241;43m=\u001B[39;49m\u001B[43mcopy\u001B[49m\u001B[43m,\u001B[49m\u001B[43m \u001B[49m\u001B[43merrors\u001B[49m\u001B[38;5;241;43m=\u001B[39;49m\u001B[43merrors\u001B[49m\u001B[43m)\u001B[49m\n\u001B[0;32m    760\u001B[0m new_values \u001B[38;5;241m=\u001B[39m maybe_coerce_values(new_values)\n\u001B[0;32m    762\u001B[0m refs \u001B[38;5;241m=\u001B[39m \u001B[38;5;28;01mNone\u001B[39;00m\n",
      "File \u001B[1;32m~\\anaconda3\\envs\\ml\\lib\\site-packages\\pandas\\core\\dtypes\\astype.py:237\u001B[0m, in \u001B[0;36mastype_array_safe\u001B[1;34m(values, dtype, copy, errors)\u001B[0m\n\u001B[0;32m    234\u001B[0m     dtype \u001B[38;5;241m=\u001B[39m dtype\u001B[38;5;241m.\u001B[39mnumpy_dtype\n\u001B[0;32m    236\u001B[0m \u001B[38;5;28;01mtry\u001B[39;00m:\n\u001B[1;32m--> 237\u001B[0m     new_values \u001B[38;5;241m=\u001B[39m \u001B[43mastype_array\u001B[49m\u001B[43m(\u001B[49m\u001B[43mvalues\u001B[49m\u001B[43m,\u001B[49m\u001B[43m \u001B[49m\u001B[43mdtype\u001B[49m\u001B[43m,\u001B[49m\u001B[43m \u001B[49m\u001B[43mcopy\u001B[49m\u001B[38;5;241;43m=\u001B[39;49m\u001B[43mcopy\u001B[49m\u001B[43m)\u001B[49m\n\u001B[0;32m    238\u001B[0m \u001B[38;5;28;01mexcept\u001B[39;00m (\u001B[38;5;167;01mValueError\u001B[39;00m, \u001B[38;5;167;01mTypeError\u001B[39;00m):\n\u001B[0;32m    239\u001B[0m     \u001B[38;5;66;03m# e.g. _astype_nansafe can fail on object-dtype of strings\u001B[39;00m\n\u001B[0;32m    240\u001B[0m     \u001B[38;5;66;03m#  trying to convert to float\u001B[39;00m\n\u001B[0;32m    241\u001B[0m     \u001B[38;5;28;01mif\u001B[39;00m errors \u001B[38;5;241m==\u001B[39m \u001B[38;5;124m\"\u001B[39m\u001B[38;5;124mignore\u001B[39m\u001B[38;5;124m\"\u001B[39m:\n",
      "File \u001B[1;32m~\\anaconda3\\envs\\ml\\lib\\site-packages\\pandas\\core\\dtypes\\astype.py:182\u001B[0m, in \u001B[0;36mastype_array\u001B[1;34m(values, dtype, copy)\u001B[0m\n\u001B[0;32m    179\u001B[0m     values \u001B[38;5;241m=\u001B[39m values\u001B[38;5;241m.\u001B[39mastype(dtype, copy\u001B[38;5;241m=\u001B[39mcopy)\n\u001B[0;32m    181\u001B[0m \u001B[38;5;28;01melse\u001B[39;00m:\n\u001B[1;32m--> 182\u001B[0m     values \u001B[38;5;241m=\u001B[39m \u001B[43m_astype_nansafe\u001B[49m\u001B[43m(\u001B[49m\u001B[43mvalues\u001B[49m\u001B[43m,\u001B[49m\u001B[43m \u001B[49m\u001B[43mdtype\u001B[49m\u001B[43m,\u001B[49m\u001B[43m \u001B[49m\u001B[43mcopy\u001B[49m\u001B[38;5;241;43m=\u001B[39;49m\u001B[43mcopy\u001B[49m\u001B[43m)\u001B[49m\n\u001B[0;32m    184\u001B[0m \u001B[38;5;66;03m# in pandas we don't store numpy str dtypes, so convert to object\u001B[39;00m\n\u001B[0;32m    185\u001B[0m \u001B[38;5;28;01mif\u001B[39;00m \u001B[38;5;28misinstance\u001B[39m(dtype, np\u001B[38;5;241m.\u001B[39mdtype) \u001B[38;5;129;01mand\u001B[39;00m \u001B[38;5;28missubclass\u001B[39m(values\u001B[38;5;241m.\u001B[39mdtype\u001B[38;5;241m.\u001B[39mtype, \u001B[38;5;28mstr\u001B[39m):\n",
      "File \u001B[1;32m~\\anaconda3\\envs\\ml\\lib\\site-packages\\pandas\\core\\dtypes\\astype.py:133\u001B[0m, in \u001B[0;36m_astype_nansafe\u001B[1;34m(arr, dtype, copy, skipna)\u001B[0m\n\u001B[0;32m    129\u001B[0m     \u001B[38;5;28;01mraise\u001B[39;00m \u001B[38;5;167;01mValueError\u001B[39;00m(msg)\n\u001B[0;32m    131\u001B[0m \u001B[38;5;28;01mif\u001B[39;00m copy \u001B[38;5;129;01mor\u001B[39;00m arr\u001B[38;5;241m.\u001B[39mdtype \u001B[38;5;241m==\u001B[39m \u001B[38;5;28mobject\u001B[39m \u001B[38;5;129;01mor\u001B[39;00m dtype \u001B[38;5;241m==\u001B[39m \u001B[38;5;28mobject\u001B[39m:\n\u001B[0;32m    132\u001B[0m     \u001B[38;5;66;03m# Explicit copy, or required since NumPy can't view from / to object.\u001B[39;00m\n\u001B[1;32m--> 133\u001B[0m     \u001B[38;5;28;01mreturn\u001B[39;00m \u001B[43marr\u001B[49m\u001B[38;5;241;43m.\u001B[39;49m\u001B[43mastype\u001B[49m\u001B[43m(\u001B[49m\u001B[43mdtype\u001B[49m\u001B[43m,\u001B[49m\u001B[43m \u001B[49m\u001B[43mcopy\u001B[49m\u001B[38;5;241;43m=\u001B[39;49m\u001B[38;5;28;43;01mTrue\u001B[39;49;00m\u001B[43m)\u001B[49m\n\u001B[0;32m    135\u001B[0m \u001B[38;5;28;01mreturn\u001B[39;00m arr\u001B[38;5;241m.\u001B[39mastype(dtype, copy\u001B[38;5;241m=\u001B[39mcopy)\n",
      "\u001B[1;31mValueError\u001B[0m: invalid literal for int() with base 10: '?'"
     ]
    }
   ]
  },
  {
   "cell_type": "markdown",
   "source": [
    "We have an error so we must check the values of our column"
   ],
   "metadata": {
    "id": "7eEA8XGLBihj"
   }
  },
  {
   "cell_type": "code",
   "source": [
    "data['Survival Time (days)'].unique()"
   ],
   "metadata": {
    "colab": {
     "base_uri": "https://localhost:8080/"
    },
    "id": "qGvUs8yKBg77",
    "outputId": "d46480b7-dd49-4fab-a2b4-3188af8cb082",
    "ExecuteTime": {
     "end_time": "2024-03-30T11:03:20.126880Z",
     "start_time": "2024-03-30T11:03:19.772165Z"
    }
   },
   "execution_count": 10,
   "outputs": [
    {
     "data": {
      "text/plain": "array(['788', '1206', '354', '224', '285', '842', '863', '227', '837',\n       '429', '300', '364', '384', '425', '221', '809', '813', '1026',\n       '764', '939', '774', '303', '770', '796', '341', '333', '848',\n       '480', '937', '213', '763', '259', '502', '371', '949', '814',\n       '336', '251', '478', '246', '710', '852', '448', '248', '170',\n       '379', '445', '368', '747', '1033', '927', '526', '80', '1005',\n       '278', '392', '991', '760', '389', '447', '233', '257', '350',\n       '405', '338', '712', '701', '522', '882', '826', '218', '192',\n       '116', '231', '202', '396', '166', '347', '135', '881', '758',\n       '353', '173', '486', '689', '234', '457', '907', '748', '182',\n       '296', '407', '917', '196', '358', '513', '459', '128', '1151',\n       '505', '304', '940', '2326', '841', '895', '634', '693', '983',\n       '845', '377', '2562', '784', '818', '853', '601', '1855', '2071',\n       '969', '585', '1988', '1023', '15', '916', '125', '938', '1042',\n       '209', '455', '495', '1597', '587', '888', '147', '30', '356',\n       '558', '1849', '610', '2425', '10', '250', '1413', '722', '1623',\n       '713', '1647', '2023', '469', '839', '929', '504', '411', '464',\n       '2760', '1967', '546', '75', '2808', '2234', '589', '2241', '3211',\n       '85', '2479', '718', '1538', '2621', '20', '1308', '1044', '198',\n       '631', '289', '1643', '479', '47', '2174', '189', '1736', '11',\n       '9', '1477', '1588', '4265', '804', '17', '530', '266', '1625',\n       '1922', '4488', '2894', '1437', '6', '3116', '7', '2152', '2201',\n       '786', '2191', '3958', '1051', '1567', '2927', '2534', '22', '41',\n       '1762', '1640', '13', '2052', '18', '26', '357', '8', '1877',\n       '2075', '16', '1982', '856', '823', '935', '584', '962', '1996',\n       '650', '188', '960', '1981', '461', '741', '545', '875', '2216',\n       '267', '692', '3012', '386', '688', '3895', '8348', '1243', '351',\n       '2716', '3031', '719', '5196', '340', '146', '475', '1525', '1526',\n       '261', '2619', '727', '1400', '131', '4409', '201', '399', '19',\n       '5497', '887', '5060', '3598', '517', '976', '603', '1864', '1273',\n       '12', '2627', '588', '1712', '2717', '2376', '500', '298', '1844',\n       '806', '1557', '2074', '2850', '896', '96', '1049', '1028', '1175',\n       '309', '948', '2466', '670', '1150', '897', '2876', '2200', '918',\n       '565', '3005', '2657', '5447', '2238', '5908', '628', '1842',\n       '437', '1738', '33', '1266', '2058', '1075', '315', '2230', '690',\n       '518', '683', '305', '1795', '1410', '1420', '1440', '335', '1610',\n       '355', '325', '2280', '735', '1050', '2130', '596', '510', '1450',\n       '1135', '1510', '1470', '1416', '1618', '1999', '?', '2292', '295',\n       '675', '1095', '1035', '1490', '2035', '2142', '491', '431', '193',\n       '1547', '443', '1813', '1614', '984', '672', '1185', '1038', '385',\n       '2010', '1030', '985', '1865', '143', '119', '1774', '2438',\n       '1949', '1061', '1990', '1523', '1522', '1581', '1943', '1200',\n       '1711', '235', '1187', '2396', '307', '493', '941', '708', '1280',\n       '1683', '291', '280', '685', '843', '162', '1402', '1364', '1250',\n       '892', '98', '326', '133', '533', '1385', '1854', '174', '1753',\n       '1500', '1734', '963', '2973', '1019', '2703', '1838', '142',\n       '134', '1090', '256', '107', '197', '654', '129', '395', '82',\n       '577', '602', '294', '606', '3059', '90', '161', '397', '436',\n       '427', '663', '352', '484', '1591', '65', '194', '548', '327',\n       '451', '268', '424', '279', '2319', '32', '1081', '564', '360',\n       '2', '238', '126', '560', '144', '3314', '317', '456', '64', '506',\n       '1093', '2166', '2002', '521', '334', '183', '1202', '1718', '624',\n       '789', '1641', '1972', '915', '215', '862', '2741', '403', '393',\n       '366', '487', '62', '185', '1037', '462', '56', '453', '2570',\n       '993', '1748', '342', '253', '361', '283', '1430', '5152', '243',\n       '94', '2900', '1459', '14', '695', '151', '276', '217', '572',\n       '292', '89', '1079', '86', '406', '160', '112', '23', '1289',\n       '4856', '543', '1671', '274', '6417', '666', '282', '69', '76',\n       '1466', '1398', '2064', '380', '4760', '330', '171', '415', '1134'],\n      dtype=object)"
     },
     "execution_count": 10,
     "metadata": {},
     "output_type": "execute_result"
    }
   ]
  },
  {
   "cell_type": "markdown",
   "source": [
    "There is a '?' value preventing us from converting our column to integer type. Therefore, we need to clean our data. We will replace it with the mean survival time."
   ],
   "metadata": {
    "id": "wxfvySeSB6Ol"
   }
  },
  {
   "cell_type": "code",
   "source": [
    "data['Survival Time (days)']=data['Survival Time (days)'].replace('?',0).astype(int)"
   ],
   "metadata": {
    "id": "tNPX2hh6CGLb",
    "ExecuteTime": {
     "end_time": "2024-03-30T11:03:28.123575Z",
     "start_time": "2024-03-30T11:03:28.096931Z"
    }
   },
   "execution_count": 11,
   "outputs": []
  },
  {
   "cell_type": "code",
   "source": [
    "data.info()"
   ],
   "metadata": {
    "colab": {
     "base_uri": "https://localhost:8080/"
    },
    "id": "MUSIOLdbENrA",
    "outputId": "325a14d5-88a4-491a-c33e-dbd867553be4",
    "ExecuteTime": {
     "end_time": "2024-03-30T11:03:30.743069Z",
     "start_time": "2024-03-30T11:03:30.542888Z"
    }
   },
   "execution_count": 12,
   "outputs": [
    {
     "name": "stdout",
     "output_type": "stream",
     "text": [
      "<class 'pandas.core.frame.DataFrame'>\n",
      "RangeIndex: 1505 entries, 0 to 1504\n",
      "Data columns (total 5 columns):\n",
      " #   Column                    Non-Null Count  Dtype\n",
      "---  ------                    --------------  -----\n",
      " 0   Gender                    1505 non-null   int64\n",
      " 1   Age at Diagnosis          1505 non-null   int64\n",
      " 2   Survival Time (days)      1505 non-null   int32\n",
      " 3   Mutated Genes             1505 non-null   int64\n",
      " 4   Tumor Stage at Diagnosis  1505 non-null   int64\n",
      "dtypes: int32(1), int64(4)\n",
      "memory usage: 53.0 KB\n"
     ]
    }
   ]
  },
  {
   "cell_type": "markdown",
   "source": [
    "Now we replace the 0 we inserted earlier with the mean Survival Time"
   ],
   "metadata": {
    "id": "JWvuCY8-ESXs"
   }
  },
  {
   "cell_type": "code",
   "source": [
    "data_mean=data['Survival Time (days)'].mean().round().astype(int)\n",
    "data_mean"
   ],
   "metadata": {
    "colab": {
     "base_uri": "https://localhost:8080/"
    },
    "id": "E-ExB9Z4EY5t",
    "outputId": "23797e77-720d-482f-cf43-d50528f88f86",
    "ExecuteTime": {
     "end_time": "2024-03-30T11:03:37.418981Z",
     "start_time": "2024-03-30T11:03:37.331708Z"
    }
   },
   "execution_count": 13,
   "outputs": [
    {
     "data": {
      "text/plain": "400"
     },
     "execution_count": 13,
     "metadata": {},
     "output_type": "execute_result"
    }
   ]
  },
  {
   "cell_type": "code",
   "source": [
    "data['Survival Time (days)']=data['Survival Time (days)'].replace(0,data_mean)"
   ],
   "metadata": {
    "id": "_1RYmbxDEpqI",
    "ExecuteTime": {
     "end_time": "2024-03-30T11:03:39.105736Z",
     "start_time": "2024-03-30T11:03:39.074349Z"
    }
   },
   "execution_count": 14,
   "outputs": []
  },
  {
   "cell_type": "code",
   "source": [
    "data.head()"
   ],
   "metadata": {
    "colab": {
     "base_uri": "https://localhost:8080/",
     "height": 206
    },
    "id": "VJYGQNdGE8e3",
    "outputId": "6bbb2828-f450-45ba-ac3e-5fd8fff90001",
    "ExecuteTime": {
     "end_time": "2024-03-30T11:03:43.827557Z",
     "start_time": "2024-03-30T11:03:43.417524Z"
    }
   },
   "execution_count": 15,
   "outputs": [
    {
     "data": {
      "text/plain": "   Gender  Age at Diagnosis  Survival Time (days)  Mutated Genes  \\\n0       1                55                   788            145   \n1       1                45                  1206            265   \n2       0                65                   354            122   \n3       1                40                   224             44   \n4       1                26                   285            278   \n\n   Tumor Stage at Diagnosis  \n0                        20  \n1                        20  \n2                        20  \n3                        20  \n4                        20  ",
      "text/html": "<div>\n<style scoped>\n    .dataframe tbody tr th:only-of-type {\n        vertical-align: middle;\n    }\n\n    .dataframe tbody tr th {\n        vertical-align: top;\n    }\n\n    .dataframe thead th {\n        text-align: right;\n    }\n</style>\n<table border=\"1\" class=\"dataframe\">\n  <thead>\n    <tr style=\"text-align: right;\">\n      <th></th>\n      <th>Gender</th>\n      <th>Age at Diagnosis</th>\n      <th>Survival Time (days)</th>\n      <th>Mutated Genes</th>\n      <th>Tumor Stage at Diagnosis</th>\n    </tr>\n  </thead>\n  <tbody>\n    <tr>\n      <th>0</th>\n      <td>1</td>\n      <td>55</td>\n      <td>788</td>\n      <td>145</td>\n      <td>20</td>\n    </tr>\n    <tr>\n      <th>1</th>\n      <td>1</td>\n      <td>45</td>\n      <td>1206</td>\n      <td>265</td>\n      <td>20</td>\n    </tr>\n    <tr>\n      <th>2</th>\n      <td>0</td>\n      <td>65</td>\n      <td>354</td>\n      <td>122</td>\n      <td>20</td>\n    </tr>\n    <tr>\n      <th>3</th>\n      <td>1</td>\n      <td>40</td>\n      <td>224</td>\n      <td>44</td>\n      <td>20</td>\n    </tr>\n    <tr>\n      <th>4</th>\n      <td>1</td>\n      <td>26</td>\n      <td>285</td>\n      <td>278</td>\n      <td>20</td>\n    </tr>\n  </tbody>\n</table>\n</div>"
     },
     "execution_count": 15,
     "metadata": {},
     "output_type": "execute_result"
    }
   ]
  },
  {
   "cell_type": "code",
   "source": [],
   "metadata": {
    "id": "v9VCMBlrOdtB",
    "ExecuteTime": {
     "end_time": "2024-03-30T11:02:52.048349Z",
     "start_time": "2024-03-30T11:02:52.035877Z"
    }
   },
   "execution_count": null,
   "outputs": []
  },
  {
   "cell_type": "markdown",
   "source": [
    "**EXPLORATORY DATA ANALYSIS**"
   ],
   "metadata": {
    "id": "U4t0DcGDHTFQ"
   }
  },
  {
   "cell_type": "markdown",
   "source": [
    "Checking the gender distribution"
   ],
   "metadata": {
    "id": "AKKXsf0fHgJV"
   }
  },
  {
   "cell_type": "code",
   "source": [
    "num_women=data['Gender'].sum()\n",
    "num_men=data.shape[0]-num_women\n",
    "total=[num_women,num_men]\n",
    "labels=['Women','Men']\n",
    "plt.pie(total,labels=labels,autopct='%1.1f%%')\n",
    "plt.legend()\n",
    "plt.show()"
   ],
   "metadata": {
    "colab": {
     "base_uri": "https://localhost:8080/",
     "height": 406
    },
    "id": "zAQuzfUpG1KX",
    "outputId": "087934de-ac0f-4d9f-8a26-d87541045bf0"
   },
   "execution_count": null,
   "outputs": []
  },
  {
   "cell_type": "markdown",
   "source": [
    "Plotting Age against Survival Time"
   ],
   "metadata": {
    "id": "sFBHeHlmHlN8"
   }
  },
  {
   "cell_type": "code",
   "source": [
    "plt.scatter(data['Age at Diagnosis'],data['Survival Time (days)'])\n",
    "plt.ylabel('Survival Time')\n",
    "plt.xlabel(\"Age\")\n",
    "plt.title(\"Survival Time vs Age\")"
   ],
   "metadata": {
    "colab": {
     "base_uri": "https://localhost:8080/",
     "height": 490
    },
    "id": "6b58M1ItIEDq",
    "outputId": "e262b813-3686-4af6-db8f-0a472328a7b1",
    "ExecuteTime": {
     "start_time": "2024-03-30T11:02:52.273108Z"
    }
   },
   "execution_count": null,
   "outputs": []
  },
  {
   "cell_type": "code",
   "source": [
    "sns.boxplot(data,x=data['Tumor Stage at Diagnosis'],y=data['Age at Diagnosis'])\n"
   ],
   "metadata": {
    "colab": {
     "base_uri": "https://localhost:8080/",
     "height": 467
    },
    "id": "tJfQZWnPI2s_",
    "outputId": "97988ec7-0f6f-488f-a63e-345fac28b124",
    "ExecuteTime": {
     "start_time": "2024-03-30T11:02:52.274108Z"
    }
   },
   "execution_count": null,
   "outputs": []
  },
  {
   "cell_type": "markdown",
   "source": [
    "From the box plot, we can see that most people that are diagnosed are above 30 years old."
   ],
   "metadata": {
    "id": "q_tXD5YSNSYk"
   }
  },
  {
   "cell_type": "code",
   "source": [
    "\n",
    "plt.pie(data['Tumor Stage at Diagnosis'].value_counts(),explode=(0.1,0.1,0.1,0.1), autopct='%1.1f%%',shadow=True, labels = ['10','20','30','40'],colors=['b','g','c','r'])\n",
    "plt.title(\"Tumor Stage Distribution in our data\")\n",
    "plt.show()"
   ],
   "metadata": {
    "colab": {
     "base_uri": "https://localhost:8080/",
     "height": 428
    },
    "id": "4BsEW4uoJac7",
    "outputId": "169f5a4b-4f7e-451f-a506-1ef6841b5638",
    "ExecuteTime": {
     "start_time": "2024-03-30T11:02:52.275107Z"
    }
   },
   "execution_count": null,
   "outputs": []
  },
  {
   "cell_type": "code",
   "source": [
    "plt.hist(data['Age at Diagnosis'])\n",
    "plt.title(\"Age distribution in our data\")\n",
    "plt.xlabel(\"Age at Diagnosis\")"
   ],
   "metadata": {
    "colab": {
     "base_uri": "https://localhost:8080/",
     "height": 490
    },
    "id": "bxQH8PfOLuaj",
    "outputId": "9cc4ac15-9c4b-4291-97da-47be82621f6c",
    "ExecuteTime": {
     "start_time": "2024-03-30T11:02:52.276108Z"
    }
   },
   "execution_count": null,
   "outputs": []
  },
  {
   "cell_type": "code",
   "source": [
    "sns.pairplot(data,x_vars=['Gender','Age at Diagnosis','Mutated Genes','Tumor Stage at Diagnosis'],y_vars=['Survival Time (days)'],kind='reg')"
   ],
   "metadata": {
    "colab": {
     "base_uri": "https://localhost:8080/",
     "height": 286
    },
    "id": "s7XzaxbQFP5q",
    "outputId": "9bb88690-271b-4b21-d646-910fcba45fb2",
    "ExecuteTime": {
     "start_time": "2024-03-30T11:02:52.277108Z"
    }
   },
   "execution_count": null,
   "outputs": []
  },
  {
   "cell_type": "code",
   "source": [
    "data.corr()"
   ],
   "metadata": {
    "colab": {
     "base_uri": "https://localhost:8080/",
     "height": 206
    },
    "id": "QSdNVo_YGjl9",
    "outputId": "4956493f-32b6-4dd7-b517-209c890ce95a",
    "ExecuteTime": {
     "start_time": "2024-03-30T11:02:52.278108Z"
    }
   },
   "execution_count": null,
   "outputs": []
  },
  {
   "cell_type": "code",
   "source": [
    "X=data.drop('Survival Time (days)',axis=1).values #Independent variables\n",
    "y=data['Survival Time (days)'].values #Dependent variable\n",
    "train_x, test_x, train_y, test_y = train_test_split(X, y, test_size=0.2, random_state=4)"
   ],
   "metadata": {
    "id": "PD0ARgePQM06",
    "ExecuteTime": {
     "end_time": "2024-03-30T11:04:08.063142Z",
     "start_time": "2024-03-30T11:04:07.806154Z"
    }
   },
   "execution_count": 16,
   "outputs": []
  },
  {
   "cell_type": "code",
   "source": [
    "k_val_min = 2\n",
    "test_MAE_array = []\n",
    "k_array = []\n",
    "MAE = 1000000000\n",
    "count=0\n",
    "for k in range(2, 20):\n",
    "    count+=1\n",
    "    print(f\"Iteration number {count}.......\")\n",
    "    model = KNeighborsRegressor(n_neighbors=k).fit(train_x, train_y)\n",
    "    y_predict = model.predict(test_x)\n",
    "    y_true = test_y\n",
    "    test_MAE = mean_absolute_error(y_true, y_predict)\n",
    "    print(f\"The current MAE is {test_MAE}\")\n",
    "    if test_MAE < MAE:\n",
    "        MAE = test_MAE\n",
    "        k_val_min = k\n",
    "    test_MAE_array.append(test_MAE)\n",
    "    k_array.append(k)\n",
    "\n",
    "    print(f\"The current best k value is {k_val_min} and the lowest MAE is {MAE}\")\n",
    "\n",
    "plt.plot(k_array, test_MAE_array,'r')\n",
    "plt.show()"
   ],
   "metadata": {
    "colab": {
     "base_uri": "https://localhost:8080/",
     "height": 1000
    },
    "id": "U0a7CCTUNppU",
    "outputId": "752c5f2d-ab2b-4bf5-c33d-2f6b3238a900",
    "ExecuteTime": {
     "end_time": "2024-03-30T11:04:16.423888Z",
     "start_time": "2024-03-30T11:04:11.273992Z"
    }
   },
   "execution_count": 17,
   "outputs": [
    {
     "name": "stdout",
     "output_type": "stream",
     "text": [
      "Iteration number 1.......\n",
      "The current MAE is 448.4119601328904\n",
      "The current best k value is 2 and the lowest MAE is 448.4119601328904\n",
      "Iteration number 2.......\n",
      "The current MAE is 444.00996677740864\n",
      "The current best k value is 3 and the lowest MAE is 444.00996677740864\n",
      "Iteration number 3.......\n",
      "The current MAE is 425.62707641196016\n",
      "The current best k value is 4 and the lowest MAE is 425.62707641196016\n",
      "Iteration number 4.......\n",
      "The current MAE is 419.02923588039863\n",
      "The current best k value is 5 and the lowest MAE is 419.02923588039863\n",
      "Iteration number 5.......\n",
      "The current MAE is 416.0016611295681\n",
      "The current best k value is 6 and the lowest MAE is 416.0016611295681\n",
      "Iteration number 6.......\n",
      "The current MAE is 415.8144280968201\n",
      "The current best k value is 7 and the lowest MAE is 415.8144280968201\n",
      "Iteration number 7.......\n",
      "The current MAE is 407.8500830564784\n",
      "The current best k value is 8 and the lowest MAE is 407.8500830564784\n",
      "Iteration number 8.......\n",
      "The current MAE is 405.7172388335179\n",
      "The current best k value is 9 and the lowest MAE is 405.7172388335179\n",
      "Iteration number 9.......\n",
      "The current MAE is 414.22358803986714\n",
      "The current best k value is 9 and the lowest MAE is 405.7172388335179\n",
      "Iteration number 10.......\n",
      "The current MAE is 416.75052854122623\n",
      "The current best k value is 9 and the lowest MAE is 405.7172388335179\n",
      "Iteration number 11.......\n",
      "The current MAE is 420.655592469546\n",
      "The current best k value is 9 and the lowest MAE is 405.7172388335179\n",
      "Iteration number 12.......\n",
      "The current MAE is 416.3105034500383\n",
      "The current best k value is 9 and the lowest MAE is 405.7172388335179\n",
      "Iteration number 13.......\n",
      "The current MAE is 416.22543901281443\n",
      "The current best k value is 9 and the lowest MAE is 405.7172388335179\n",
      "Iteration number 14.......\n",
      "The current MAE is 417.046511627907\n",
      "The current best k value is 9 and the lowest MAE is 405.7172388335179\n",
      "Iteration number 15.......\n",
      "The current MAE is 415.0203488372093\n",
      "The current best k value is 9 and the lowest MAE is 405.7172388335179\n",
      "Iteration number 16.......\n",
      "The current MAE is 412.51221418800077\n",
      "The current best k value is 9 and the lowest MAE is 405.7172388335179\n",
      "Iteration number 17.......\n",
      "The current MAE is 409.5125507567368\n",
      "The current best k value is 9 and the lowest MAE is 405.7172388335179\n",
      "Iteration number 18.......\n",
      "The current MAE is 408.15299877600984\n",
      "The current best k value is 9 and the lowest MAE is 405.7172388335179\n"
     ]
    },
    {
     "data": {
      "text/plain": "<Figure size 640x480 with 1 Axes>",
      "image/png": "[encoded data removed]"
     },
     "metadata": {},
     "output_type": "display_data"
    }
   ]
  },
  {
   "cell_type": "markdown",
   "source": [
    "From our code, the best value of k is 9."
   ],
   "metadata": {
    "id": "3HzM5C4OUdsu"
   }
  },
  {
   "cell_type": "code",
   "source": [
    "model=KNeighborsRegressor(n_neighbors=9)\n",
    "model.fit(train_x,train_y)\n",
    "predictions=model.predict(test_x)\n"
   ],
   "metadata": {
    "id": "Bm5F59I7Um8n",
    "ExecuteTime": {
     "end_time": "2024-03-30T11:04:39.308053Z",
     "start_time": "2024-03-30T11:04:39.276239Z"
    }
   },
   "execution_count": 18,
   "outputs": []
  },
  {
   "cell_type": "code",
   "outputs": [
    {
     "name": "stdout",
     "output_type": "stream",
     "text": [
      "Data saved successfully to C:\\Users\\tekno asya\\PycharmProjects\\WTFModelDeploymentGroup5\\model.pkl\n"
     ]
    }
   ],
   "source": [
    "import pickle\n",
    "import os\n",
    "model_data={'model': model}\n",
    "\n",
    "# File path where you want to save the model\n",
    "file_path = 'C:\\\\Users\\\\tekno asya\\\\PycharmProjects\\\\WTFModelDeploymentGroup5\\\\model.pkl'\n",
    "\n",
    "# Ensure the directory exists, create it if it doesn't\n",
    "directory = os.path.dirname(file_path)\n",
    "if not os.path.exists(directory):\n",
    "    os.makedirs(directory)\n",
    "\n",
    "# Save the model to the file\n",
    "try:\n",
    "    with open(file_path, 'wb') as file:\n",
    "        pickle.dump(model_data, file)\n",
    "    print(f\"Data saved successfully to {file_path}\")\n",
    "except Exception as e:\n",
    "    print(\"Error occurred while saving data:\", e)\n"
   ],
   "metadata": {
    "collapsed": false,
    "ExecuteTime": {
     "end_time": "2024-03-30T11:37:56.085237Z",
     "start_time": "2024-03-30T11:37:53.662426Z"
    }
   },
   "execution_count": 33
  },
  {
   "cell_type": "code",
   "outputs": [],
   "source": [
    "with open(file_path,'rb') as file:\n",
    "    model_data=pickle.load(file)\n",
    "model=model_data['model']"
   ],
   "metadata": {
    "collapsed": false,
    "ExecuteTime": {
     "end_time": "2024-03-30T11:38:42.168660Z",
     "start_time": "2024-03-30T11:38:42.132249Z"
    }
   },
   "execution_count": 36
  },
  {
   "cell_type": "code",
   "outputs": [
    {
     "data": {
      "text/plain": "0"
     },
     "execution_count": 41,
     "metadata": {},
     "output_type": "execute_result"
    }
   ],
   "source": [
    "data['Mutated Genes'].min()"
   ],
   "metadata": {
    "collapsed": false,
    "ExecuteTime": {
     "end_time": "2024-03-30T12:28:29.607134Z",
     "start_time": "2024-03-30T12:28:26.416978Z"
    }
   },
   "execution_count": 41
  },
  {
   "cell_type": "markdown",
   "source": [],
   "metadata": {
    "collapsed": false
   }
  },
  {
   "cell_type": "code",
   "outputs": [
    {
     "name": "stdout",
     "output_type": "stream",
     "text": [
      "716.0\n"
     ]
    }
   ],
   "source": [
    "val=np.array([1,55,145,20]).reshape(1,-1)\n",
    "print(model.predict(val)[0])"
   ],
   "metadata": {
    "collapsed": false,
    "ExecuteTime": {
     "end_time": "2024-03-30T13:00:39.248435Z",
     "start_time": "2024-03-30T13:00:34.338357Z"
    }
   },
   "execution_count": 50
  },
  {
   "cell_type": "code",
   "outputs": [
    {
     "data": {
      "text/plain": "array([[  0,  12, 234,  40]])"
     },
     "execution_count": 51,
     "metadata": {},
     "output_type": "execute_result"
    }
   ],
   "source": [
    "gender='Male'\n",
    "age=12\n",
    "genemutations=234\n",
    "tumorstage=40\n",
    "\n",
    "gender_encoded = 0 if gender == 'Male' else 1  # Encoding gender as numerical value\n",
    "\n",
    "        # Create feature vector\n",
    "X = np.array([gender_encoded, age, genemutations, tumorstage],dtype=int).reshape(1, -1)\n",
    "X\n",
    "\n",
    "        #"
   ],
   "metadata": {
    "collapsed": false,
    "ExecuteTime": {
     "end_time": "2024-03-30T13:26:16.439338Z",
     "start_time": "2024-03-30T13:25:57.121577Z"
    }
   },
   "execution_count": 51
  },
  {
   "cell_type": "code",
   "outputs": [
    {
     "data": {
      "text/plain": "437.0"
     },
     "execution_count": 53,
     "metadata": {},
     "output_type": "execute_result"
    }
   ],
   "source": [
    "model.predict(X)[0]"
   ],
   "metadata": {
    "collapsed": false,
    "ExecuteTime": {
     "end_time": "2024-03-30T13:28:04.919960Z",
     "start_time": "2024-03-30T13:28:04.872024Z"
    }
   },
   "execution_count": 53
  },
  {
   "cell_type": "code",
   "outputs": [],
   "source": [],
   "metadata": {
    "collapsed": false
   }
  }
 ]
}
